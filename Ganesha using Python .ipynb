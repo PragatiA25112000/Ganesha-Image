{
 "cells": [
  {
   "cell_type": "code",
   "execution_count": 1,
   "id": "40dae7ef",
   "metadata": {},
   "outputs": [],
   "source": [
    "from PIL import Image, ImageDraw\n",
    "import matplotlib.pyplot as plt\n",
    "import cv2"
   ]
  },
  {
   "cell_type": "code",
   "execution_count": 2,
   "id": "54d17f1f",
   "metadata": {},
   "outputs": [],
   "source": [
    "def making_ganesha(img,color, image_size, center, radius_x, radius_y, start_angle, end_angle, direction=\"anticlockwise\"):    \n",
    "    draw = ImageDraw.Draw(img) # created a black image\n",
    "    \n",
    "    left_up_point = (center[0] - radius_x, center[1] - radius_y) # bounding box of semi ellipse created \n",
    "    right_down_point = (center[0] + radius_x, center[1] + radius_y)\n",
    "    bounding_box = [left_up_point, right_down_point]\n",
    "    \n",
    "    if direction == \"anticlockwise\": # check if direction of drawing is clockwise or anticlockwise \n",
    "        start_angle, end_angle = end_angle, start_angle\n",
    "    \n",
    "    draw.arc(bounding_box, start=start_angle, end=end_angle, fill=color, width=3) # drawing the semi ellipse\n",
    "    return img"
   ]
  },
  {
   "cell_type": "code",
   "execution_count": 3,
   "id": "51b671fc",
   "metadata": {},
   "outputs": [],
   "source": [
    "image_size = (1920, 1080) \n",
    "img = Image.new(\"RGB\", image_size, \"black\")"
   ]
  },
  {
   "cell_type": "code",
   "execution_count": 4,
   "id": "0c2db9c2",
   "metadata": {},
   "outputs": [],
   "source": [
    "img = making_ganesha(img,\"yellow\",(1920, 1080), (865, 140), 21, 21, -200, 200, direction=\"clockwise\") "
   ]
  },
  {
   "cell_type": "code",
   "execution_count": 5,
   "id": "3acfbd96",
   "metadata": {},
   "outputs": [],
   "source": [
    "# CROWN - 1st line\n",
    "img = making_ganesha(img,\"yellow\",(1920, 1080), (887, 250), 90, 90, -200, -5, direction=\"clockwise\") \n",
    "\n",
    "# CROWN - 2nd and 3rd line\n",
    "img = making_ganesha(img,\"yellow\",(1920, 1080), (900, 300), 100, 90, -200, -5, direction=\"clockwise\") \n",
    "img = making_ganesha(img,\"yellow\",(1920, 1080), (905, 320), 100, 80, -185, -20, direction=\"clockwise\") "
   ]
  },
  {
   "cell_type": "code",
   "execution_count": 6,
   "id": "ae975243",
   "metadata": {},
   "outputs": [],
   "source": [
    "#Making a trunk\n",
    "img = making_ganesha(img,\"orange\",(1920, 1080), (923, 358), 120, 80, -170, -45, direction=\"clockwise\") #upper line \n",
    "img = making_ganesha(img,\"orange\",(1920, 1080), (677, 450), 180, 150, -45, 65, direction=\"clockwise\") #left line\n",
    "img = making_ganesha(img,\"orange\",(1920, 1080), (600, 310), 406, 300, -2, 68, direction=\"clockwise\") # right line"
   ]
  },
  {
   "cell_type": "code",
   "execution_count": 7,
   "id": "605ca0fa",
   "metadata": {},
   "outputs": [],
   "source": [
    "#making left ear\n",
    "img = making_ganesha(img,\"orange\",(1920, 1080), (320, 410), 500, 160, -20, 35, direction=\"clockwise\")\n",
    "img = making_ganesha(img,\"orange\",(1920, 1080), (300, 450), 450, 170, -41, 17, direction=\"clockwise\")\n",
    "img = making_ganesha(img,\"orange\",(1920, 1080), (700, 408), 120, 80, -120, -40, direction=\"clockwise\")"
   ]
  },
  {
   "cell_type": "code",
   "execution_count": 8,
   "id": "f5961248",
   "metadata": {},
   "outputs": [],
   "source": [
    "\n",
    "#making right ear\n",
    "img = making_ganesha(img,\"orange\",(1920, 1080), (1520, 350), 500, 160, 140, 220, direction=\"clockwise\")\n",
    "img = making_ganesha(img,\"orange\",(1920, 1080), (1290, 350), 200, 160, 140, 220, direction=\"clockwise\")"
   ]
  },
  {
   "cell_type": "code",
   "execution_count": 9,
   "id": "54304c5d",
   "metadata": {},
   "outputs": [],
   "source": [
    "\n",
    "# making tummy\n",
    "img = making_ganesha(img,\"orange\",(1920, 1080), (940, 490), 175, 175, -18, 150,direction=\"clockwise\")\n",
    "img = making_ganesha(img,\"orange\",(1920, 1080), (940, 490), 175, 175, 153, 157,direction=\"clockwise\")\n",
    "img = making_ganesha(img,\"orange\",(1920, 1080), (940, 490), 175, 175, 165, 182,direction=\"clockwise\")\n",
    "img = making_ganesha(img,\"orange\",(1920, 1080), (960, 620), 20, 20, 0, 170,direction=\"clockwise\")"
   ]
  },
  {
   "cell_type": "code",
   "execution_count": 10,
   "id": "6cfe81f7",
   "metadata": {},
   "outputs": [],
   "source": [
    "#making left hand\n",
    "img = making_ganesha(img,\"orange\",(1920, 1080), (750, 540), 40, 30, -40, 180, direction=\"clockwise\")\n",
    "img = making_ganesha(img,\"orange\",(1920, 1080), (740, 520), 40, 30, -5, 140, direction=\"clockwise\")\n",
    "img = making_ganesha(img,\"orange\",(1920, 1080), (742, 527), 20, 20, -180, 180, direction=\"clockwise\")\n",
    "\n",
    "#making right hand\n",
    "img = making_ganesha(img,\"orange\",(1920, 1080), (1170, 420), 40, 30, -40, 180, direction=\"clockwise\")\n",
    "img = making_ganesha(img,\"orange\",(1920, 1080), (1160, 400), 40, 30, -5, 140, direction=\"clockwise\")\n",
    "img = making_ganesha(img,\"orange\",(1920, 1080), (1162, 407), 20, 20, -180, 180, direction=\"clockwise\")"
   ]
  },
  {
   "cell_type": "code",
   "execution_count": 11,
   "id": "a8ee5e52",
   "metadata": {},
   "outputs": [],
   "source": [
    "# making right leg\n",
    "img = making_ganesha(img,\"orange\",(1920, 1080), (1030, 570), 205, 115, -66, 97,direction=\"clockwise\")\n",
    "\n",
    "#making left leg \n",
    "img = making_ganesha(img,\"orange\",(1920, 1080), (840, 570), 205, 115, -117, 55,direction=\"anticlockwise\")"
   ]
  },
  {
   "cell_type": "code",
   "execution_count": 12,
   "id": "0953438d",
   "metadata": {},
   "outputs": [],
   "source": [
    "\n",
    "#making left foot\n",
    "img = making_ganesha(img,\"orange\",(1920, 1080), (960, 670), 50, 30, -33, 170,direction=\"clockwise\")\n",
    "img = making_ganesha(img,\"orange\",(1920, 1080), (940, 670), 50, 30, -28, 85,direction=\"clockwise\")"
   ]
  },
  {
   "cell_type": "code",
   "execution_count": 13,
   "id": "68c691e7",
   "metadata": {},
   "outputs": [],
   "source": [
    "#making necklace\n",
    "img = making_ganesha(img,\"yellow\",(1920, 1080), (1040, 290), 300, 300, 132, 146,direction=\"clockwise\")\n",
    "img = making_ganesha(img,\"yellow\",(1920, 1080), (1040, 290), 300, 300, 107, 125,direction=\"clockwise\")\n",
    "img = making_ganesha(img,\"yellow\",(1920, 1080), (530, 290), 510, 510, 10, 34,direction=\"clockwise\")\n",
    "img = making_ganesha(img,\"yellow\",(1920, 1080), (955, 585), 10, 10, -180, 180,direction=\"clockwise\")"
   ]
  },
  {
   "cell_type": "code",
   "execution_count": 14,
   "id": "eba92e36",
   "metadata": {},
   "outputs": [],
   "source": [
    "#making left eye\n",
    "img = making_ganesha(img,\"white\",(1920, 1080), (847, 420), 50, 50, 280, 320,direction=\"clockwise\")\n",
    "img = making_ganesha(img,\"white\",(1920, 1080), (847, 427), 50, 50, 280, 320,direction=\"clockwise\")\n",
    "img = making_ganesha(img,\"white\",(1920, 1080), (870, 390), 3, 5, -180, 180,direction=\"clockwise\")\n",
    "img = making_ganesha(img,\"white\",(1920, 1080), (875, 387), 15, 10, 45, 220,direction=\"clockwise\")\n",
    "img = making_ganesha(img,\"white\",(1920, 1080), (870, 388), 1,1, -180, 180,direction=\"clockwise\")\n",
    "\n",
    "#making right eye\n",
    "img = making_ganesha(img,\"white\",(1920, 1080), (975, 420), 50, 50, 220, 260,direction=\"clockwise\")\n",
    "img = making_ganesha(img,\"white\",(1920, 1080), (975, 427), 50, 50, 220, 260,direction=\"clockwise\")\n",
    "img = making_ganesha(img,\"white\",(1920, 1080), (952, 390), 3, 5, -180, 180,direction=\"clockwise\")\n",
    "img = making_ganesha(img,\"white\",(1920, 1080), (952, 387), 1, 1, -180, 180,direction=\"clockwise\")\n",
    "img = making_ganesha(img,\"white\",(1920, 1080), (947, 388), 17, 10, -37, 120,direction=\"clockwise\")"
   ]
  },
  {
   "cell_type": "code",
   "execution_count": 15,
   "id": "1825295f",
   "metadata": {},
   "outputs": [],
   "source": [
    "#making tilak\n",
    "img = making_ganesha(img,\"white\",(1920, 1080), (900, 330), 10, 10, -180, 180,direction=\"clockwise\")\n",
    "img = making_ganesha(img,\"red\",(1920, 1080), (900, 310), 20, 35, -20, 200,direction=\"clockwise\")\n",
    "img = making_ganesha(img,\"red\",(1920, 1080), (900, 320), 25, 35, -35, 215,direction=\"clockwise\")\n",
    "img = making_ganesha(img,\"red\",(1920, 1080), (905, 368), 10, 10, -180, 180,direction=\"clockwise\")\n",
    "img = making_ganesha(img,\"red\",(1920, 1080), (907, 385), 9, 9, -180, 180,direction=\"clockwise\")\n",
    "img = making_ganesha(img,\"red\",(1920, 1080), (908, 399), 8, 8, -180, 180,direction=\"clockwise\")\n",
    "img = making_ganesha(img,\"red\",(1920, 1080), (908, 414), 7, 7, -180, 180,direction=\"clockwise\")\n",
    "img = making_ganesha(img,\"red\",(1920, 1080), (908, 428), 6, 6, -180, 180,direction=\"clockwise\")\n",
    "img = making_ganesha(img,\"red\",(1920, 1080), (908, 440), 5, 5, -180, 180,direction=\"clockwise\")\n",
    "img = making_ganesha(img,\"red\",(1920, 1080), (908, 450), 4, 4, -180, 180,direction=\"clockwise\")\n",
    "img = making_ganesha(img,\"red\",(1920, 1080), (908, 455), 3, 3, -180, 180,direction=\"clockwise\")\n",
    "img = making_ganesha(img,\"red\",(1920, 1080), (908, 460), 2, 2, -180, 180,direction=\"clockwise\")\n",
    "img = making_ganesha(img,\"red\",(1920, 1080), (908, 465), 2, 2, -180, 180,direction=\"clockwise\")\n",
    "img = making_ganesha(img,\"red\",(1920, 1080), (908, 470), 2, 2, -180, 180,direction=\"clockwise\")\n",
    "img = making_ganesha(img,\"red\",(1920, 1080), (908, 475), 1, 1, -180, 180,direction=\"clockwise\")"
   ]
  },
  {
   "cell_type": "code",
   "execution_count": 16,
   "id": "20605cd2",
   "metadata": {},
   "outputs": [
    {
     "data": {
      "text/plain": [
       "True"
      ]
     },
     "execution_count": 16,
     "metadata": {},
     "output_type": "execute_result"
    }
   ],
   "source": [
    "img.save('Ganesha Image created using Python Code.png')\n",
    "path = r'Ganesha Image created using Python Code.png'\n",
    "image = cv2.imread(path) \n",
    "#left tooth\n",
    "image = cv2.line(image, (860,450), (840,460), (255,255,255), 1) \n",
    "image = cv2.line(image, (860,440), (840,460), (255,255,255), 1) \n",
    "#right tooth\n",
    "image = cv2.line(image, (965,460), (955,445), (255,255,255), 1) \n",
    "image = cv2.line(image, (965,470), (955,455), (255,255,255), 1) \n",
    "image = cv2.line(image, (965,460), (965,470), (255,255,255), 1) \n",
    "cv2.imwrite(\"Ganesha Image created using Python Code.png\", image)"
   ]
  },
  {
   "cell_type": "code",
   "execution_count": 18,
   "id": "3c1fab7e",
   "metadata": {},
   "outputs": [
    {
     "data": {
      "text/plain": [
       "<matplotlib.image.AxesImage at 0x2411523bf48>"
      ]
     },
     "execution_count": 18,
     "metadata": {},
     "output_type": "execute_result"
    },
    {
     "data": {
      "image/png": "[encoded data removed]",
      "text/plain": [
       "<Figure size 640x480 with 1 Axes>"
      ]
     },
     "metadata": {},
     "output_type": "display_data"
    }
   ],
   "source": [
    "plt.imshow(image)"
   ]
  },
  {
   "cell_type": "code",
   "execution_count": 17,
   "id": "f003619d",
   "metadata": {},
   "outputs": [
    {
     "ename": "KeyboardInterrupt",
     "evalue": "",
     "output_type": "error",
     "traceback": [
      "\u001b[1;31m---------------------------------------------------------------------------\u001b[0m",
      "\u001b[1;31mKeyboardInterrupt\u001b[0m                         Traceback (most recent call last)",
      "\u001b[1;32mC:\\Temp\\ipykernel_14576\\3026577555.py\u001b[0m in \u001b[0;36m<module>\u001b[1;34m\u001b[0m\n\u001b[0;32m      7\u001b[0m \u001b[0mwindow_name\u001b[0m \u001b[1;33m=\u001b[0m \u001b[1;34m'My friend Ganesha using Python'\u001b[0m\u001b[1;33m\u001b[0m\u001b[1;33m\u001b[0m\u001b[0m\n\u001b[0;32m      8\u001b[0m \u001b[0mcv2\u001b[0m\u001b[1;33m.\u001b[0m\u001b[0mimshow\u001b[0m\u001b[1;33m(\u001b[0m\u001b[0mwindow_name\u001b[0m\u001b[1;33m,\u001b[0m \u001b[0mcropped_image\u001b[0m\u001b[1;33m)\u001b[0m\u001b[1;33m\u001b[0m\u001b[1;33m\u001b[0m\u001b[0m\n\u001b[1;32m----> 9\u001b[1;33m \u001b[0mcv2\u001b[0m\u001b[1;33m.\u001b[0m\u001b[0mwaitKey\u001b[0m\u001b[1;33m(\u001b[0m\u001b[1;36m0\u001b[0m\u001b[1;33m)\u001b[0m\u001b[1;33m\u001b[0m\u001b[1;33m\u001b[0m\u001b[0m\n\u001b[0m\u001b[0;32m     10\u001b[0m \u001b[0mcv2\u001b[0m\u001b[1;33m.\u001b[0m\u001b[0mdestroyAllWindows\u001b[0m\u001b[1;33m(\u001b[0m\u001b[1;33m)\u001b[0m\u001b[1;33m\u001b[0m\u001b[1;33m\u001b[0m\u001b[0m\n",
      "\u001b[1;31mKeyboardInterrupt\u001b[0m: "
     ]
    }
   ],
   "source": [
    "import cv2\n",
    "path = r'Ganesha Image created using Python Code.png'\n",
    "image = cv2.imread(path)\n",
    "height, width, _ = image.shape\n",
    "cropped_image = image[100:760,600:1250]\n",
    "cropped_image = cv2.resize(cropped_image, (cropped_image.shape[0]//2, cropped_image.shape[1]//2))\n",
    "window_name = 'My friend Ganesha using Python'\n",
    "cv2.imshow(window_name, cropped_image)\n",
    "cv2.waitKey(0)\n",
    "cv2.destroyAllWindows()"
   ]
  },
  {
   "cell_type": "code",
   "execution_count": null,
   "id": "afb96271",
   "metadata": {},
   "outputs": [],
   "source": []
  }
 ],
 "metadata": {
  "kernelspec": {
   "display_name": "Python 3 (ipykernel)",
   "language": "python",
   "name": "python3"
  },
  "language_info": {
   "codemirror_mode": {
    "name": "ipython",
    "version": 3
   },
   "file_extension": ".py",
   "mimetype": "text/x-python",
   "name": "python",
   "nbconvert_exporter": "python",
   "pygments_lexer": "ipython3",
   "version": "3.7.6"
  }
 },
 "nbformat": 4,
 "nbformat_minor": 5
}
